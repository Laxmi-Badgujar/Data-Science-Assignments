{
 "cells": [
  {
   "cell_type": "markdown",
   "id": "20990873-02e7-4e23-8df8-6dbb75f08b60",
   "metadata": {},
   "source": [
    "## Hypothesis Testing : To investigate the restaurant owners' claim about the increase in weekly operating costs using hypothesis testing."
   ]
  },
  {
   "cell_type": "code",
   "execution_count": 1,
   "id": "679ac0f5-ff50-4721-92c0-481d17473025",
   "metadata": {
    "scrolled": true
   },
   "outputs": [
    {
     "name": "stdout",
     "output_type": "stream",
     "text": [
      "T-statistic value: -38.0\n",
      "P-value: 1.0\n",
      "Critical value: 1.7108820799094275\n",
      "Decision: Fail to reject Null Hypothesis.\n"
     ]
    }
   ],
   "source": [
    "#import the libraries\n",
    "import numpy as np\n",
    "from scipy import stats\n",
    "\n",
    "# Given data in the problem.\n",
    "sample_mean = 3050  # Sample mean weekly cost (Rs.)\n",
    "theoretical_mean = 4000 #1000 + 5 * 600 Theoretical mean weekly cost according to the model (Rs.)\n",
    "std_dev = 125 # 5 * 25 Standard deviation (Rs.)\n",
    "sample_size = 25  # Sample size\n",
    "alpha = 0.05  # Significance level\n",
    "Confidence_level = 0.95\n",
    "\n",
    "\n",
    "\n",
    "# 1. Define Null Hypothesis\n",
    "#Null Hypothesis(H0) = The mean weekly operating cost is less than theoretical mean cost. (H0 = μ < 4000)\n",
    "#Alternate Hypothesis(H1) = The mean weekly operating cost is higher than the theoretical mean.(H1 = μ > 4000)\n",
    "\n",
    "\n",
    "# 2. Select type of test.\n",
    "# Selecting t test as sample mean an sample standard deviation is given and the test is one tail test.\n",
    "\n",
    "\n",
    "# 3. Now calculate t_statistic from t distribution table.\n",
    "t_statistic = (sample_mean - theoretical_mean)/(std_dev/np.sqrt(sample_size))\n",
    "print(f\"T-statistic value: {t_statistic}\")\n",
    "\n",
    "\n",
    "# 4. Calculate p-value(probability value)\n",
    "degrees_of_freedom = sample_size -1 \n",
    "p_value = 1 - stats.t.cdf(t_statistic, degrees_of_freedom)\n",
    "print(f\"P-value: {p_value}\")\n",
    "\n",
    "# Calculating critical value\n",
    "critical_value = stats.t.ppf(0.95, degrees_of_freedom)\n",
    "print(f\"Critical value: {critical_value}\")\n",
    "\n",
    "\n",
    "# 5. Decision Making\n",
    "if p_value < 0.05:\n",
    "    print(\"Decision: Reject Null Hypothesis.\")\n",
    "else:\n",
    "    print(\"Decision: Fail to reject Null Hypothesis.\")\n",
    "\n",
    "\n",
    "# Decision on the basis of t statistic and critical value\n",
    "#if t_statistic > critical_value:\n",
    "#    print(\"Reject Null Hypothesis.\")\n",
    "#else:\n",
    "#    print(\"Fail to Reject Null Hypothesis.\")\n"
   ]
  },
  {
   "cell_type": "markdown",
   "id": "dee93a11-5d86-4a5c-aa34-ebbcc8e0f2d0",
   "metadata": {},
   "source": [
    "### 6. Conclusion\n",
    "There is no strong evidence with a confidence interval of 95% to support the restaurant owner's claim that the weekly operating costs are higher as according to the test conducted it is clear that we have failed to reject(accept) null hypothesis which states that the mean weekly operating cost is less than theoretical mean cost."
   ]
  },
  {
   "cell_type": "markdown",
   "id": "02937bc6-6c54-48d7-b4ee-ee2b936bceb5",
   "metadata": {},
   "source": [
    "## Chi-Square test : Association between device type purchased and customer satisfaction level"
   ]
  },
  {
   "cell_type": "code",
   "execution_count": 2,
   "id": "4397cd9b-7486-4e8c-a20b-979158c17acb",
   "metadata": {},
   "outputs": [
    {
     "name": "stdout",
     "output_type": "stream",
     "text": [
      "Statistics value: 5.638\n",
      "pvalue: 0.22784371130697179\n",
      "degrees of freedom: 4\n",
      "Critical Value: 9.487729036781154\n",
      "Decision: Fail to reject Null Hyothesis.\n"
     ]
    }
   ],
   "source": [
    "from scipy.stats import chi2, chi2_contingency\n",
    "\n",
    "\n",
    "# Define Null Hypothesis and Alternate Hypothesis.\n",
    "# Null Hypothesis (H0) : There is no significant association between device type purchased and customer satisfaction level.\n",
    "# Alternate Hypothesis (H1) : There is significant association between device type purchased and customer satisfaction level.\n",
    "\n",
    "\n",
    "# From given contingency table creating Observed frequency array structure for calculation.\n",
    "Observed = np.array([\n",
    "    [50, 70],\n",
    "    [80, 100],\n",
    "    [60, 90],\n",
    "    [30, 50],\n",
    "    [20, 50]\n",
    "])\n",
    "\n",
    "\n",
    "# Calculating Statistic value, pvalue, degrees of freedom (dof), Expected_frequency using chi2_contigency.\n",
    "Statistics_value, pvalue, dof, Expected_frequency  = chi2_contingency(Observed)\n",
    "print(f\"Statistics value: {Statistics_value.round(3)}\") # round is used to display how many number we want after decimal.\n",
    "print(f\"pvalue: {pvalue}\")\n",
    "print(f\"degrees of freedom: {dof}\")\n",
    "\n",
    "\n",
    "# Data for critical value calcultion-\n",
    "# alpha = 0.05, degrees of freedom (dof) = 4\n",
    "alpha = 0.05\n",
    "dof = 4\n",
    "critical_value = chi2.ppf(1 - alpha, dof)\n",
    "print(f\"Critical Value: {critical_value}\")\n",
    "\n",
    "\n",
    "# Decision\n",
    "if Statistics_value > critical_value:\n",
    "    print(\"Decision: Reject Null Hpothesis.\")\n",
    "else:\n",
    "    print(\"Decision: Fail to reject Null Hyothesis.\")"
   ]
  },
  {
   "cell_type": "markdown",
   "id": "ab143409-2e52-4508-b6a5-8259062209c1",
   "metadata": {},
   "source": [
    "### Conclusion - \n",
    "The Null Hypothesis is accepted which states that there is not a significant association between the type of device purchased and customer satisfaction level."
   ]
  }
 ],
 "metadata": {
  "kernelspec": {
   "display_name": "Python 3 (ipykernel)",
   "language": "python",
   "name": "python3"
  },
  "language_info": {
   "codemirror_mode": {
    "name": "ipython",
    "version": 3
   },
   "file_extension": ".py",
   "mimetype": "text/x-python",
   "name": "python",
   "nbconvert_exporter": "python",
   "pygments_lexer": "ipython3",
   "version": "3.12.2"
  }
 },
 "nbformat": 4,
 "nbformat_minor": 5
}
