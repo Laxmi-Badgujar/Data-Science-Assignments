{
 "cells": [
  {
   "cell_type": "markdown",
   "id": "7de881b2-9761-4413-8100-d483b484214d",
   "metadata": {},
   "source": [
    "## 99% Confidence interval using sample standard deviation"
   ]
  },
  {
   "cell_type": "code",
   "execution_count": 1,
   "id": "35afdecf-4b16-4959-bcb3-9f24a8b21ab1",
   "metadata": {},
   "outputs": [],
   "source": [
    "from scipy.stats import t\n",
    "from scipy import stats\n",
    "import pandas as pd\n",
    "import numpy as np"
   ]
  },
  {
   "cell_type": "code",
   "execution_count": 2,
   "id": "213d937f-c485-4051-8249-50215f1aec08",
   "metadata": {},
   "outputs": [],
   "source": [
    "# sample data for calculation.\n",
    "sample_data = [1.33, 1.55, 1.43, 0.92, 1.25, 1.36, 1.32, 0.85, 107, 1.48, 1.20,1.33, 1.18, 122, 1.29]"
   ]
  },
  {
   "cell_type": "code",
   "execution_count": 3,
   "id": "fc655347-9b13-45cb-8bbd-931ef22b51e0",
   "metadata": {},
   "outputs": [
    {
     "name": "stdout",
     "output_type": "stream",
     "text": [
      "sample_mean=16.366\n",
      "sample_std=39.943447665775814\n"
     ]
    }
   ],
   "source": [
    "# As this sample data is given and no information about population data is available, t-test is used.\n",
    "# First mean and std deviation needs to be calculated to margin of error and lower and upper value.\n",
    "sample_mean = np.mean(sample_data)\n",
    "sample_std = np.std(sample_data, ddof=1)\n",
    "print(f\"{sample_mean=}\")\n",
    "print(f\"{sample_std=}\")"
   ]
  },
  {
   "cell_type": "code",
   "execution_count": 4,
   "id": "b638c768-466c-4ae7-9b71-d8bd43ac625f",
   "metadata": {},
   "outputs": [
    {
     "name": "stdout",
     "output_type": "stream",
     "text": [
      "Dgrees of freedom: 14\n"
     ]
    }
   ],
   "source": [
    "# As this is sample data sample size(n) should be reduced by 1.\n",
    "n = len(sample_data)\n",
    "df = n-1\n",
    "print(f\"Dgrees of freedom: {df}\")"
   ]
  },
  {
   "cell_type": "code",
   "execution_count": 5,
   "id": "bb29a1b2-e764-46d4-b35e-e42d61ef8b6c",
   "metadata": {},
   "outputs": [
    {
     "name": "stdout",
     "output_type": "stream",
     "text": [
      "30.70123244553152\n",
      "Confidence interval: (-14.33523244553152, 47.067232445531516)\n"
     ]
    }
   ],
   "source": [
    "# Confidence level as mentioned in the problem.\n",
    "confidence_level = 0.99\n",
    "\n",
    "# For calculation of t value needed in calculation of margin of error formula.\n",
    "alpha = 1 - confidence_level\n",
    "\n",
    "t_critical = t.ppf(1 - alpha / 2, df)\n",
    "margin_of_error = t_critical * (sample_std / np.sqrt(n))\n",
    "lower_bound = sample_mean - margin_of_error\n",
    "upper_bound = sample_mean + margin_of_error\n",
    "print(margin_of_error )\n",
    "print(f\"Confidence interval: ({lower_bound}, {upper_bound})\")"
   ]
  },
  {
   "cell_type": "code",
   "execution_count": 12,
   "id": "bf44a8cc-7b85-47af-bca6-f8fe34855ae4",
   "metadata": {},
   "outputs": [],
   "source": [
    "#confidence_interval = t.interval(\n",
    "    #confidence_level,\n",
    "    #df,\n",
    "    #loc = sample_mean,\n",
    "    #scale = sample_std / np.sqrt(n)\n",
    "#)\n",
    "\n",
    "#print(confidence_interval)"
   ]
  },
  {
   "cell_type": "markdown",
   "id": "8fe94b1e-6d44-4243-8f1d-74924a65be9a",
   "metadata": {},
   "source": [
    "## Interpretation-\n",
    "\n",
    "The range of this confidence interval gives the idea about the population mean number of characters printed before the print head fails with the confidence level of 99%. Here  the confidence interval is calculated using sample mean and sample standard deviatiion using ttest. \n"
   ]
  },
  {
   "cell_type": "markdown",
   "id": "470bfad8-ddf5-4b5a-9e1a-b64464c094e6",
   "metadata": {},
   "source": [
    "## 99% Confidence interval using population standard deviation"
   ]
  },
  {
   "cell_type": "code",
   "execution_count": 7,
   "id": "3659cfb2-06f3-4fa1-bbda-ad83f6187bfc",
   "metadata": {},
   "outputs": [],
   "source": [
    "population_data = [1.33, 1.55, 1.43, 0.92, 1.25, 1.36, 1.32, 0.85, 107, 1.48, 1.20,1.33, 1.18, 122, 1.29]"
   ]
  },
  {
   "cell_type": "code",
   "execution_count": 8,
   "id": "ef73300b-764c-4667-a827-8f2fb04dfcb9",
   "metadata": {},
   "outputs": [
    {
     "data": {
      "text/plain": [
       "16.366"
      ]
     },
     "execution_count": 8,
     "metadata": {},
     "output_type": "execute_result"
    }
   ],
   "source": [
    "mean = np.mean(population_data)\n",
    "mean"
   ]
  },
  {
   "cell_type": "code",
   "execution_count": 9,
   "id": "b992fdf1-98e0-42bb-8e96-7f050640a248",
   "metadata": {},
   "outputs": [
    {
     "data": {
      "text/plain": [
       "2.5758293035489004"
      ]
     },
     "execution_count": 9,
     "metadata": {},
     "output_type": "execute_result"
    }
   ],
   "source": [
    "# Finding Z value from given probabilities (Confidence level)\n",
    "# 99% confidence level\n",
    "z_value = stats.norm.ppf(0.995 )\n",
    "z_value"
   ]
  },
  {
   "cell_type": "code",
   "execution_count": 10,
   "id": "721437df-2909-487e-95f6-a9744e8021c0",
   "metadata": {},
   "outputs": [
    {
     "name": "stdout",
     "output_type": "stream",
     "text": [
      "0.13301525327090588\n",
      "Confidence interval: (16.232984746729095, 16.499015253270905)\n"
     ]
    }
   ],
   "source": [
    "Population_stddev = 0.2\n",
    "n = len(population_data)\n",
    "\n",
    "margin_of_error = z_value * ( Population_stddev / np.sqrt(n))\n",
    "lower_bound = mean - margin_of_error\n",
    "upper_bound = mean + margin_of_error\n",
    "print(margin_of_error )\n",
    "print(f\"Confidence interval: ({lower_bound}, {upper_bound})\")"
   ]
  },
  {
   "cell_type": "code",
   "execution_count": 11,
   "id": "ce33dd85-7a07-4d28-bb8a-f2fe8e012ca8",
   "metadata": {},
   "outputs": [
    {
     "name": "stdout",
     "output_type": "stream",
     "text": [
      "(16.023375412805823, 16.708624587194176)\n"
     ]
    }
   ],
   "source": [
    "confidence_level = 0.99\n",
    "confidence_interval = stats.norm.interval(\n",
    "    confidence_level,\n",
    "    loc = sample_mean,\n",
    "    scale = margin_of_error\n",
    ")\n",
    "\n",
    "print(confidence_interval)"
   ]
  },
  {
   "cell_type": "markdown",
   "id": "68895df6-3696-46d3-ac8f-3efa031b131c",
   "metadata": {},
   "source": [
    "## Interpretaion\n",
    "\n",
    "This range of value of confidence interval is calculated on the basis of population standard deviation mentioned in the problem statement. To calculate this raange with 99% confidence level z-test is used.\n"
   ]
  },
  {
   "cell_type": "markdown",
   "id": "3cb7c080-f461-4466-aeff-72a1f8af2eea",
   "metadata": {},
   "source": [
    "### Both calculation shows a wide range of difference in the confidence interval, from this it can be interpretated that there is chance of misleading collection of data."
   ]
  }
 ],
 "metadata": {
  "kernelspec": {
   "display_name": "Python 3 (ipykernel)",
   "language": "python",
   "name": "python3"
  },
  "language_info": {
   "codemirror_mode": {
    "name": "ipython",
    "version": 3
   },
   "file_extension": ".py",
   "mimetype": "text/x-python",
   "name": "python",
   "nbconvert_exporter": "python",
   "pygments_lexer": "ipython3",
   "version": "3.12.2"
  }
 },
 "nbformat": 4,
 "nbformat_minor": 5
}
