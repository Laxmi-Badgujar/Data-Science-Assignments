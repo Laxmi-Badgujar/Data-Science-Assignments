{
 "cells": [
  {
   "cell_type": "markdown",
   "id": "48c36ebc-cde8-423d-a53b-00b4eecc4e0f",
   "metadata": {},
   "source": [
    "## Ex 1\n",
    "Write  a python program that checks whether a given number is prime or not.A prime number is a natural number greater than 1 that has no positive divisors other than 1 and itself.\n"
   ]
  },
  {
   "cell_type": "code",
   "execution_count": null,
   "id": "d5668bc3-6126-4893-b1da-f673ff0624c6",
   "metadata": {},
   "outputs": [],
   "source": [
    "# Take input from user\n",
    "Num = int(input(\"Enter a number natural number :\" ))\n",
    "\n",
    "# Check condition of prime number i.e prime number is number divided by 1 and itself only.\n",
    "if Num % 1 == 0 and Num % Num == 0:\n",
    "    print(\"Number entered is prime number.\")\n",
    "else:\n",
    "    print(\"Number entered is not a prime number.\")  "
   ]
  },
  {
   "cell_type": "markdown",
   "id": "60f40e76-8f6b-4927-a587-ca7c7804abb0",
   "metadata": {},
   "source": [
    "## EX 2\n",
    "\n",
    "Develop a python program that generates two random numbers and asks the user to enter the product of these numbers. The program should than check if the user's ans is correct and display an appropriate message."
   ]
  },
  {
   "cell_type": "code",
   "execution_count": null,
   "id": "0de35f56-e1db-4aa3-88c7-7988e2b2297f",
   "metadata": {},
   "outputs": [],
   "source": [
    "# Import numpy library for numerical calculation.\n",
    "import numpy as np\n",
    "\n",
    "# generate two random integers.\n",
    "Numbers = np.random.randint(0,100,2)\n",
    "print(Numbers)\n",
    "\n",
    "# Take user input of the product of the numbers generated.\n",
    "Product = int(input(\"Enter the product of numbers:\"))\n",
    "\n",
    "# Check whether the product input is correct.\n",
    "if Product == np.product(Numbers):\n",
    "    print(\"Answer is correct.\")\n",
    "else:\n",
    "    print(\"Answer is incorrect.\")"
   ]
  },
  {
   "cell_type": "markdown",
   "id": "84416659-e9c2-46b1-ba61-dd32a88d819c",
   "metadata": {},
   "source": [
    "## Ex 3\n",
    "\n",
    "Create a python script that prints the squares of all even or odd numbers within the range of 100 and 200. Choose either even or odd numbers and document your choice in the code."
   ]
  },
  {
   "cell_type": "code",
   "execution_count": null,
   "id": "5e302dc0-3169-4ab2-bc9e-49c1794809c2",
   "metadata": {},
   "outputs": [],
   "source": [
    "# Define range of numbers\n",
    "Numbers = range(1,201)\n",
    "\n",
    "# Print squares of numbers by using for loop.\n",
    "for i in Numbers:\n",
    "    x = i*i\n",
    "    print(x)"
   ]
  },
  {
   "cell_type": "markdown",
   "id": "ed9d8b19-3dca-455c-b879-f0c79cedd4f0",
   "metadata": {},
   "source": [
    "## Ex 4\n",
    "write a program to count the number of words in a given text."
   ]
  },
  {
   "cell_type": "code",
   "execution_count": null,
   "id": "59fe6304-5668-48f3-ae14-5eb0f4d26762",
   "metadata": {
    "scrolled": true
   },
   "outputs": [],
   "source": [
    "# Create a text to check.\n",
    "sentence=\"Hello world! Java, C,Python, C++, Python are the programing languages. Amongst these languages Python is the easy to understand for beginners.\"\n",
    "\n",
    "# Split the String.\n",
    "words = sentence.split()\n",
    "\n",
    "# Take input from user.\n",
    "word = input(\"Enter the word to check it's number of occurrence:\")\n",
    "\n",
    "# Initalize count to count the number of occurrence of a word.\n",
    "count = 0\n",
    "\n",
    "# Run for loop for the word and check its count and print.\n",
    "for i in words:\n",
    "    if i == word:\n",
    "        count+=1\n",
    "print(f\"Total number of occurrence of '{word}' word is:\", count)"
   ]
  },
  {
   "cell_type": "markdown",
   "id": "e25c574c-b8fe-4bee-88dd-4afc57c4f140",
   "metadata": {},
   "source": [
    "## Ex 5\n",
    "\n",
    "Write a python function called palindrome that takes a string as input and returns true if the string is palindrome, and false otherwise. A palindrome is a word, phrase, number or other sequence of characters that reads the same forward and backward, ignoring spaces, punctuation, and capitalization."
   ]
  },
  {
   "cell_type": "code",
   "execution_count": null,
   "id": "ce4c2b11-244f-4852-8081-d01ee096d80d",
   "metadata": {},
   "outputs": [],
   "source": [
    "# Creating function to check palindrome\n",
    "# defining function name\n",
    "def is_Palindrome(String):\n",
    "\n",
    "    # Reversing the string\n",
    "    reversed_string = String[::-1]\n",
    "\n",
    "    # Compare original and reversed string\n",
    "    if String ==  reversed_string:\n",
    "        return True\n",
    "    else:\n",
    "        return False\n",
    "\n",
    "print(is_Palindrome(\"racecar\"))"
   ]
  }
 ],
 "metadata": {
  "kernelspec": {
   "display_name": "Python 3 (ipykernel)",
   "language": "python",
   "name": "python3"
  },
  "language_info": {
   "codemirror_mode": {
    "name": "ipython",
    "version": 3
   },
   "file_extension": ".py",
   "mimetype": "text/x-python",
   "name": "python",
   "nbconvert_exporter": "python",
   "pygments_lexer": "ipython3",
   "version": "3.12.2"
  }
 },
 "nbformat": 4,
 "nbformat_minor": 5
}
